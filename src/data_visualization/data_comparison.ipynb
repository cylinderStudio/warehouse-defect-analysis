{
 "cells": [
  {
   "cell_type": "markdown",
   "id": "9433d3fe",
   "metadata": {},
   "source": [
    "#### Data Comparison\n",
    "\n",
    "Examining shipdock environmental data alongside order fulfillment data to study any correlations."
   ]
  },
  {
   "cell_type": "code",
   "execution_count": 1,
   "id": "b762630a",
   "metadata": {},
   "outputs": [],
   "source": [
    "from dotenv import load_dotenv\n",
    "import os\n",
    "from supabase import create_client\n",
    "import pandas as pd\n",
    "import seaborn as sns"
   ]
  },
  {
   "cell_type": "markdown",
   "id": "f4a1070c",
   "metadata": {},
   "source": [
    "#### Create Supabase client"
   ]
  },
  {
   "cell_type": "code",
   "execution_count": 2,
   "id": "e5a3d48b",
   "metadata": {},
   "outputs": [],
   "source": [
    "load_dotenv()\n",
    "url = os.getenv('DB_URL')\n",
    "key = os.getenv('DB_API_KEY')\n",
    "supabase = create_client(url, key)"
   ]
  },
  {
   "cell_type": "markdown",
   "id": "773805dd",
   "metadata": {},
   "source": [
    "#### Retrieve table data\n",
    "\n",
    "The two tables in the database have a differing number of rows, since multiple orders can occur within a given hourly timestamp from the environmental data. Instead of bringing data in and merging with a complex SQL query, I'm using pd.merge_asof.\n",
    "\n",
    "1. Timestamps come in as string objects, so convert to timestamp dtype\n",
    "2. With pd.merge_asof, the left_on and right_on fields must be sorted and contain datetime, integer or float values, so bring the left and right dataframes in sorted."
   ]
  },
  {
   "cell_type": "code",
   "execution_count": 3,
   "id": "c4c659f5",
   "metadata": {},
   "outputs": [
    {
     "name": "stdout",
     "output_type": "stream",
     "text": [
      "<class 'pandas.core.frame.DataFrame'>\n",
      "RangeIndex: 4374 entries, 0 to 4373\n",
      "Data columns (total 14 columns):\n",
      " #   Column                Non-Null Count  Dtype         \n",
      "---  ------                --------------  -----         \n",
      " 0   id_x                  4374 non-null   int64         \n",
      " 1   timestamp_x           4374 non-null   datetime64[ns]\n",
      " 2   ship_date             4374 non-null   datetime64[ns]\n",
      " 3   defect_reported       274 non-null    object        \n",
      " 4   defect_reported_bool  4374 non-null   bool          \n",
      " 5   pack_date             4374 non-null   datetime64[ns]\n",
      " 6   order_id              4374 non-null   object        \n",
      " 7   number_of_items       4374 non-null   int64         \n",
      " 8   ship_method           4374 non-null   object        \n",
      " 9   box_size              4374 non-null   object        \n",
      " 10  id_y                  4374 non-null   int64         \n",
      " 11  timestamp_y           4374 non-null   datetime64[ns]\n",
      " 12  temperature           4374 non-null   float64       \n",
      " 13  noise_level           4374 non-null   float64       \n",
      "dtypes: bool(1), datetime64[ns](4), float64(2), int64(3), object(4)\n",
      "memory usage: 448.6+ KB\n"
     ]
    }
   ],
   "source": [
    "def supabase_retrieve(table):\n",
    "    try: \n",
    "        response = (\n",
    "            supabase.from_(table)   # 'from' is a reserved word in Python\n",
    "            .select(\"*\")\n",
    "            .execute()\n",
    "        )\n",
    "\n",
    "    except Exception as e:\n",
    "        print(f\"An error occurred: {e}\")\n",
    "\n",
    "    return response.data\n",
    "\n",
    "fulfillment_data_df = pd.DataFrame(supabase_retrieve(\"order_fulfillment_data\"))\n",
    "fulfillment_data_df[['timestamp', 'ship_date', 'pack_date']] = fulfillment_data_df[['timestamp', 'ship_date', 'pack_date']].apply(pd.to_datetime)\n",
    "sensor_data_df = pd.DataFrame(supabase_retrieve(\"shipdock_environmental_data\"))\n",
    "sensor_data_df['timestamp'] = pd.to_datetime(sensor_data_df['timestamp'] )\n",
    "\n",
    "# fulfillment_data_df.info()\n",
    "# sensor_data_df.info()\n",
    "\n",
    "merged_df = pd.merge_asof(\n",
    "    fulfillment_data_df.sort_values('pack_date'),\n",
    "    sensor_data_df.sort_values('timestamp'),\n",
    "    left_on='pack_date',                              # left_on and right_on must be datetime, integer or float and ordered\n",
    "    right_on='timestamp',\n",
    "    direction='nearest'                               # 'nearest' to search for closest matches, vs prior or subsequent\n",
    ")\n",
    "\n",
    "# Correlations occur on numeric type fields, so I need a boolean version of defect_reported\n",
    "merged_df.insert(4, 'defect_reported_bool', merged_df['defect_reported'].notnull(), allow_duplicates=False)\n",
    "\n",
    "merged_df.info()"
   ]
  },
  {
   "cell_type": "markdown",
   "id": "02701b6d",
   "metadata": {},
   "source": [
    "#### TEST: Basic subset operations"
   ]
  },
  {
   "cell_type": "code",
   "execution_count": 4,
   "id": "6ee7de14",
   "metadata": {},
   "outputs": [
    {
     "data": {
      "application/vnd.microsoft.datawrangler.viewer.v0+json": {
       "columns": [
        {
         "name": "index",
         "rawType": "int64",
         "type": "integer"
        },
        {
         "name": "id_x",
         "rawType": "int64",
         "type": "integer"
        },
        {
         "name": "timestamp_x",
         "rawType": "datetime64[ns]",
         "type": "datetime"
        },
        {
         "name": "ship_date",
         "rawType": "datetime64[ns]",
         "type": "datetime"
        },
        {
         "name": "defect_reported",
         "rawType": "object",
         "type": "string"
        },
        {
         "name": "defect_reported_bool",
         "rawType": "bool",
         "type": "boolean"
        },
        {
         "name": "pack_date",
         "rawType": "datetime64[ns]",
         "type": "datetime"
        },
        {
         "name": "order_id",
         "rawType": "object",
         "type": "string"
        },
        {
         "name": "number_of_items",
         "rawType": "int64",
         "type": "integer"
        },
        {
         "name": "ship_method",
         "rawType": "object",
         "type": "string"
        },
        {
         "name": "box_size",
         "rawType": "object",
         "type": "string"
        },
        {
         "name": "id_y",
         "rawType": "int64",
         "type": "integer"
        },
        {
         "name": "timestamp_y",
         "rawType": "datetime64[ns]",
         "type": "datetime"
        },
        {
         "name": "temperature",
         "rawType": "float64",
         "type": "float"
        },
        {
         "name": "noise_level",
         "rawType": "float64",
         "type": "float"
        }
       ],
       "conversionMethod": "pd.DataFrame",
       "ref": "121adeae-8305-4554-bc43-cea42f3a810a",
       "rows": [
        [
         "10",
         "1658",
         "2024-05-31 19:00:00",
         "2024-06-01 17:00:00",
         "poorly packed",
         "True",
         "2024-06-01 09:00:00",
         "0b99d8cf-6654-4a9a-88b6-aeb9807e3e8f",
         "2",
         "fedex",
         "B",
         "622",
         "2024-06-01 09:00:00",
         "60.45",
         "74.8"
        ],
        [
         "30",
         "1677",
         "2024-06-01 13:00:00",
         "2024-06-02 03:00:00",
         "missing items",
         "True",
         "2024-06-01 15:00:00",
         "d2843110-addf-4344-84c6-07995ef57c62",
         "3",
         "dhl",
         "A",
         "628",
         "2024-06-01 15:00:00",
         "67.47",
         "79.43"
        ],
        [
         "32",
         "1681",
         "2024-05-31 16:00:00",
         "2024-06-02 00:00:00",
         "wrong items",
         "True",
         "2024-06-01 15:00:00",
         "a4d55f5f-e24c-45c5-9989-d3661435a948",
         "5",
         "fedex",
         "A",
         "628",
         "2024-06-01 15:00:00",
         "67.47",
         "79.43"
        ],
        [
         "33",
         "1680",
         "2024-06-01 06:00:00",
         "2024-06-02 04:00:00",
         "wrong items",
         "True",
         "2024-06-01 15:00:00",
         "284f07db-f568-4f61-9c71-513512208e7e",
         "1",
         "usps",
         "A",
         "628",
         "2024-06-01 15:00:00",
         "67.47",
         "79.43"
        ],
        [
         "39",
         "1687",
         "2024-06-02 04:00:00",
         "2024-06-03 04:00:00",
         "poorly packed",
         "True",
         "2024-06-02 09:00:00",
         "93a53eb5-4678-4f15-948d-dd52759580d3",
         "2",
         "fedex",
         "C",
         "632",
         "2024-06-02 09:00:00",
         "60.75",
         "64.19"
        ]
       ],
       "shape": {
        "columns": 14,
        "rows": 5
       }
      },
      "text/html": [
       "<div>\n",
       "<style scoped>\n",
       "    .dataframe tbody tr th:only-of-type {\n",
       "        vertical-align: middle;\n",
       "    }\n",
       "\n",
       "    .dataframe tbody tr th {\n",
       "        vertical-align: top;\n",
       "    }\n",
       "\n",
       "    .dataframe thead th {\n",
       "        text-align: right;\n",
       "    }\n",
       "</style>\n",
       "<table border=\"1\" class=\"dataframe\">\n",
       "  <thead>\n",
       "    <tr style=\"text-align: right;\">\n",
       "      <th></th>\n",
       "      <th>id_x</th>\n",
       "      <th>timestamp_x</th>\n",
       "      <th>ship_date</th>\n",
       "      <th>defect_reported</th>\n",
       "      <th>defect_reported_bool</th>\n",
       "      <th>pack_date</th>\n",
       "      <th>order_id</th>\n",
       "      <th>number_of_items</th>\n",
       "      <th>ship_method</th>\n",
       "      <th>box_size</th>\n",
       "      <th>id_y</th>\n",
       "      <th>timestamp_y</th>\n",
       "      <th>temperature</th>\n",
       "      <th>noise_level</th>\n",
       "    </tr>\n",
       "  </thead>\n",
       "  <tbody>\n",
       "    <tr>\n",
       "      <th>10</th>\n",
       "      <td>1658</td>\n",
       "      <td>2024-05-31 19:00:00</td>\n",
       "      <td>2024-06-01 17:00:00</td>\n",
       "      <td>poorly packed</td>\n",
       "      <td>True</td>\n",
       "      <td>2024-06-01 09:00:00</td>\n",
       "      <td>0b99d8cf-6654-4a9a-88b6-aeb9807e3e8f</td>\n",
       "      <td>2</td>\n",
       "      <td>fedex</td>\n",
       "      <td>B</td>\n",
       "      <td>622</td>\n",
       "      <td>2024-06-01 09:00:00</td>\n",
       "      <td>60.45</td>\n",
       "      <td>74.80</td>\n",
       "    </tr>\n",
       "    <tr>\n",
       "      <th>30</th>\n",
       "      <td>1677</td>\n",
       "      <td>2024-06-01 13:00:00</td>\n",
       "      <td>2024-06-02 03:00:00</td>\n",
       "      <td>missing items</td>\n",
       "      <td>True</td>\n",
       "      <td>2024-06-01 15:00:00</td>\n",
       "      <td>d2843110-addf-4344-84c6-07995ef57c62</td>\n",
       "      <td>3</td>\n",
       "      <td>dhl</td>\n",
       "      <td>A</td>\n",
       "      <td>628</td>\n",
       "      <td>2024-06-01 15:00:00</td>\n",
       "      <td>67.47</td>\n",
       "      <td>79.43</td>\n",
       "    </tr>\n",
       "    <tr>\n",
       "      <th>32</th>\n",
       "      <td>1681</td>\n",
       "      <td>2024-05-31 16:00:00</td>\n",
       "      <td>2024-06-02 00:00:00</td>\n",
       "      <td>wrong items</td>\n",
       "      <td>True</td>\n",
       "      <td>2024-06-01 15:00:00</td>\n",
       "      <td>a4d55f5f-e24c-45c5-9989-d3661435a948</td>\n",
       "      <td>5</td>\n",
       "      <td>fedex</td>\n",
       "      <td>A</td>\n",
       "      <td>628</td>\n",
       "      <td>2024-06-01 15:00:00</td>\n",
       "      <td>67.47</td>\n",
       "      <td>79.43</td>\n",
       "    </tr>\n",
       "    <tr>\n",
       "      <th>33</th>\n",
       "      <td>1680</td>\n",
       "      <td>2024-06-01 06:00:00</td>\n",
       "      <td>2024-06-02 04:00:00</td>\n",
       "      <td>wrong items</td>\n",
       "      <td>True</td>\n",
       "      <td>2024-06-01 15:00:00</td>\n",
       "      <td>284f07db-f568-4f61-9c71-513512208e7e</td>\n",
       "      <td>1</td>\n",
       "      <td>usps</td>\n",
       "      <td>A</td>\n",
       "      <td>628</td>\n",
       "      <td>2024-06-01 15:00:00</td>\n",
       "      <td>67.47</td>\n",
       "      <td>79.43</td>\n",
       "    </tr>\n",
       "    <tr>\n",
       "      <th>39</th>\n",
       "      <td>1687</td>\n",
       "      <td>2024-06-02 04:00:00</td>\n",
       "      <td>2024-06-03 04:00:00</td>\n",
       "      <td>poorly packed</td>\n",
       "      <td>True</td>\n",
       "      <td>2024-06-02 09:00:00</td>\n",
       "      <td>93a53eb5-4678-4f15-948d-dd52759580d3</td>\n",
       "      <td>2</td>\n",
       "      <td>fedex</td>\n",
       "      <td>C</td>\n",
       "      <td>632</td>\n",
       "      <td>2024-06-02 09:00:00</td>\n",
       "      <td>60.75</td>\n",
       "      <td>64.19</td>\n",
       "    </tr>\n",
       "  </tbody>\n",
       "</table>\n",
       "</div>"
      ],
      "text/plain": [
       "    id_x         timestamp_x           ship_date defect_reported  \\\n",
       "10  1658 2024-05-31 19:00:00 2024-06-01 17:00:00   poorly packed   \n",
       "30  1677 2024-06-01 13:00:00 2024-06-02 03:00:00   missing items   \n",
       "32  1681 2024-05-31 16:00:00 2024-06-02 00:00:00     wrong items   \n",
       "33  1680 2024-06-01 06:00:00 2024-06-02 04:00:00     wrong items   \n",
       "39  1687 2024-06-02 04:00:00 2024-06-03 04:00:00   poorly packed   \n",
       "\n",
       "    defect_reported_bool           pack_date  \\\n",
       "10                  True 2024-06-01 09:00:00   \n",
       "30                  True 2024-06-01 15:00:00   \n",
       "32                  True 2024-06-01 15:00:00   \n",
       "33                  True 2024-06-01 15:00:00   \n",
       "39                  True 2024-06-02 09:00:00   \n",
       "\n",
       "                                order_id  number_of_items ship_method  \\\n",
       "10  0b99d8cf-6654-4a9a-88b6-aeb9807e3e8f                2       fedex   \n",
       "30  d2843110-addf-4344-84c6-07995ef57c62                3         dhl   \n",
       "32  a4d55f5f-e24c-45c5-9989-d3661435a948                5       fedex   \n",
       "33  284f07db-f568-4f61-9c71-513512208e7e                1        usps   \n",
       "39  93a53eb5-4678-4f15-948d-dd52759580d3                2       fedex   \n",
       "\n",
       "   box_size  id_y         timestamp_y  temperature  noise_level  \n",
       "10        B   622 2024-06-01 09:00:00        60.45        74.80  \n",
       "30        A   628 2024-06-01 15:00:00        67.47        79.43  \n",
       "32        A   628 2024-06-01 15:00:00        67.47        79.43  \n",
       "33        A   628 2024-06-01 15:00:00        67.47        79.43  \n",
       "39        C   632 2024-06-02 09:00:00        60.75        64.19  "
      ]
     },
     "execution_count": 4,
     "metadata": {},
     "output_type": "execute_result"
    }
   ],
   "source": [
    "merged_df[merged_df['defect_reported'].notnull()].head(5)"
   ]
  },
  {
   "cell_type": "code",
   "execution_count": 5,
   "id": "abe84892",
   "metadata": {},
   "outputs": [
    {
     "data": {
      "application/vnd.microsoft.datawrangler.viewer.v0+json": {
       "columns": [
        {
         "name": "index",
         "rawType": "int64",
         "type": "integer"
        },
        {
         "name": "id_x",
         "rawType": "int64",
         "type": "integer"
        },
        {
         "name": "timestamp_x",
         "rawType": "datetime64[ns]",
         "type": "datetime"
        },
        {
         "name": "ship_date",
         "rawType": "datetime64[ns]",
         "type": "datetime"
        },
        {
         "name": "defect_reported",
         "rawType": "object",
         "type": "unknown"
        },
        {
         "name": "defect_reported_bool",
         "rawType": "bool",
         "type": "boolean"
        },
        {
         "name": "pack_date",
         "rawType": "datetime64[ns]",
         "type": "datetime"
        },
        {
         "name": "order_id",
         "rawType": "object",
         "type": "string"
        },
        {
         "name": "number_of_items",
         "rawType": "int64",
         "type": "integer"
        },
        {
         "name": "ship_method",
         "rawType": "object",
         "type": "string"
        },
        {
         "name": "box_size",
         "rawType": "object",
         "type": "string"
        },
        {
         "name": "id_y",
         "rawType": "int64",
         "type": "integer"
        },
        {
         "name": "timestamp_y",
         "rawType": "datetime64[ns]",
         "type": "datetime"
        },
        {
         "name": "temperature",
         "rawType": "float64",
         "type": "float"
        },
        {
         "name": "noise_level",
         "rawType": "float64",
         "type": "float"
        }
       ],
       "conversionMethod": "pd.DataFrame",
       "ref": "bd922294-8157-4c33-a83d-0d9dc097b0a7",
       "rows": [
        [
         "3",
         "1652",
         "2024-06-01 04:00:00",
         "2024-06-02 07:00:00",
         null,
         "False",
         "2024-06-01 08:00:00",
         "cb5fc7f8-9aa0-46ba-a2f1-dee6f13655e6",
         "3",
         "fedex",
         "C",
         "621",
         "2024-06-01 08:00:00",
         "60.18",
         "36.65"
        ],
        [
         "8",
         "1656",
         "2024-05-31 23:00:00",
         "2024-06-02 05:00:00",
         null,
         "False",
         "2024-06-01 09:00:00",
         "892443f5-bbc8-4b64-8b80-9c260720a782",
         "3",
         "fedex",
         "A",
         "622",
         "2024-06-01 09:00:00",
         "60.45",
         "74.8"
        ],
        [
         "9",
         "1657",
         "2024-06-01 00:00:00",
         "2024-06-02 03:00:00",
         null,
         "False",
         "2024-06-01 09:00:00",
         "e7974d91-d59a-495d-9611-21452f818b75",
         "1",
         "fedex",
         "C",
         "622",
         "2024-06-01 09:00:00",
         "60.45",
         "74.8"
        ],
        [
         "10",
         "1658",
         "2024-05-31 19:00:00",
         "2024-06-01 17:00:00",
         "poorly packed",
         "True",
         "2024-06-01 09:00:00",
         "0b99d8cf-6654-4a9a-88b6-aeb9807e3e8f",
         "2",
         "fedex",
         "B",
         "622",
         "2024-06-01 09:00:00",
         "60.45",
         "74.8"
        ],
        [
         "13",
         "1661",
         "2024-06-01 02:00:00",
         "2024-06-01 20:00:00",
         null,
         "False",
         "2024-06-01 10:00:00",
         "1dc97d39-e406-4ec9-b492-498f71d43c9b",
         "5",
         "fedex",
         "A",
         "623",
         "2024-06-01 10:00:00",
         "60.47",
         "36.15"
        ]
       ],
       "shape": {
        "columns": 14,
        "rows": 5
       }
      },
      "text/html": [
       "<div>\n",
       "<style scoped>\n",
       "    .dataframe tbody tr th:only-of-type {\n",
       "        vertical-align: middle;\n",
       "    }\n",
       "\n",
       "    .dataframe tbody tr th {\n",
       "        vertical-align: top;\n",
       "    }\n",
       "\n",
       "    .dataframe thead th {\n",
       "        text-align: right;\n",
       "    }\n",
       "</style>\n",
       "<table border=\"1\" class=\"dataframe\">\n",
       "  <thead>\n",
       "    <tr style=\"text-align: right;\">\n",
       "      <th></th>\n",
       "      <th>id_x</th>\n",
       "      <th>timestamp_x</th>\n",
       "      <th>ship_date</th>\n",
       "      <th>defect_reported</th>\n",
       "      <th>defect_reported_bool</th>\n",
       "      <th>pack_date</th>\n",
       "      <th>order_id</th>\n",
       "      <th>number_of_items</th>\n",
       "      <th>ship_method</th>\n",
       "      <th>box_size</th>\n",
       "      <th>id_y</th>\n",
       "      <th>timestamp_y</th>\n",
       "      <th>temperature</th>\n",
       "      <th>noise_level</th>\n",
       "    </tr>\n",
       "  </thead>\n",
       "  <tbody>\n",
       "    <tr>\n",
       "      <th>3</th>\n",
       "      <td>1652</td>\n",
       "      <td>2024-06-01 04:00:00</td>\n",
       "      <td>2024-06-02 07:00:00</td>\n",
       "      <td>None</td>\n",
       "      <td>False</td>\n",
       "      <td>2024-06-01 08:00:00</td>\n",
       "      <td>cb5fc7f8-9aa0-46ba-a2f1-dee6f13655e6</td>\n",
       "      <td>3</td>\n",
       "      <td>fedex</td>\n",
       "      <td>C</td>\n",
       "      <td>621</td>\n",
       "      <td>2024-06-01 08:00:00</td>\n",
       "      <td>60.18</td>\n",
       "      <td>36.65</td>\n",
       "    </tr>\n",
       "    <tr>\n",
       "      <th>8</th>\n",
       "      <td>1656</td>\n",
       "      <td>2024-05-31 23:00:00</td>\n",
       "      <td>2024-06-02 05:00:00</td>\n",
       "      <td>None</td>\n",
       "      <td>False</td>\n",
       "      <td>2024-06-01 09:00:00</td>\n",
       "      <td>892443f5-bbc8-4b64-8b80-9c260720a782</td>\n",
       "      <td>3</td>\n",
       "      <td>fedex</td>\n",
       "      <td>A</td>\n",
       "      <td>622</td>\n",
       "      <td>2024-06-01 09:00:00</td>\n",
       "      <td>60.45</td>\n",
       "      <td>74.80</td>\n",
       "    </tr>\n",
       "    <tr>\n",
       "      <th>9</th>\n",
       "      <td>1657</td>\n",
       "      <td>2024-06-01 00:00:00</td>\n",
       "      <td>2024-06-02 03:00:00</td>\n",
       "      <td>None</td>\n",
       "      <td>False</td>\n",
       "      <td>2024-06-01 09:00:00</td>\n",
       "      <td>e7974d91-d59a-495d-9611-21452f818b75</td>\n",
       "      <td>1</td>\n",
       "      <td>fedex</td>\n",
       "      <td>C</td>\n",
       "      <td>622</td>\n",
       "      <td>2024-06-01 09:00:00</td>\n",
       "      <td>60.45</td>\n",
       "      <td>74.80</td>\n",
       "    </tr>\n",
       "    <tr>\n",
       "      <th>10</th>\n",
       "      <td>1658</td>\n",
       "      <td>2024-05-31 19:00:00</td>\n",
       "      <td>2024-06-01 17:00:00</td>\n",
       "      <td>poorly packed</td>\n",
       "      <td>True</td>\n",
       "      <td>2024-06-01 09:00:00</td>\n",
       "      <td>0b99d8cf-6654-4a9a-88b6-aeb9807e3e8f</td>\n",
       "      <td>2</td>\n",
       "      <td>fedex</td>\n",
       "      <td>B</td>\n",
       "      <td>622</td>\n",
       "      <td>2024-06-01 09:00:00</td>\n",
       "      <td>60.45</td>\n",
       "      <td>74.80</td>\n",
       "    </tr>\n",
       "    <tr>\n",
       "      <th>13</th>\n",
       "      <td>1661</td>\n",
       "      <td>2024-06-01 02:00:00</td>\n",
       "      <td>2024-06-01 20:00:00</td>\n",
       "      <td>None</td>\n",
       "      <td>False</td>\n",
       "      <td>2024-06-01 10:00:00</td>\n",
       "      <td>1dc97d39-e406-4ec9-b492-498f71d43c9b</td>\n",
       "      <td>5</td>\n",
       "      <td>fedex</td>\n",
       "      <td>A</td>\n",
       "      <td>623</td>\n",
       "      <td>2024-06-01 10:00:00</td>\n",
       "      <td>60.47</td>\n",
       "      <td>36.15</td>\n",
       "    </tr>\n",
       "  </tbody>\n",
       "</table>\n",
       "</div>"
      ],
      "text/plain": [
       "    id_x         timestamp_x           ship_date defect_reported  \\\n",
       "3   1652 2024-06-01 04:00:00 2024-06-02 07:00:00            None   \n",
       "8   1656 2024-05-31 23:00:00 2024-06-02 05:00:00            None   \n",
       "9   1657 2024-06-01 00:00:00 2024-06-02 03:00:00            None   \n",
       "10  1658 2024-05-31 19:00:00 2024-06-01 17:00:00   poorly packed   \n",
       "13  1661 2024-06-01 02:00:00 2024-06-01 20:00:00            None   \n",
       "\n",
       "    defect_reported_bool           pack_date  \\\n",
       "3                  False 2024-06-01 08:00:00   \n",
       "8                  False 2024-06-01 09:00:00   \n",
       "9                  False 2024-06-01 09:00:00   \n",
       "10                  True 2024-06-01 09:00:00   \n",
       "13                 False 2024-06-01 10:00:00   \n",
       "\n",
       "                                order_id  number_of_items ship_method  \\\n",
       "3   cb5fc7f8-9aa0-46ba-a2f1-dee6f13655e6                3       fedex   \n",
       "8   892443f5-bbc8-4b64-8b80-9c260720a782                3       fedex   \n",
       "9   e7974d91-d59a-495d-9611-21452f818b75                1       fedex   \n",
       "10  0b99d8cf-6654-4a9a-88b6-aeb9807e3e8f                2       fedex   \n",
       "13  1dc97d39-e406-4ec9-b492-498f71d43c9b                5       fedex   \n",
       "\n",
       "   box_size  id_y         timestamp_y  temperature  noise_level  \n",
       "3         C   621 2024-06-01 08:00:00        60.18        36.65  \n",
       "8         A   622 2024-06-01 09:00:00        60.45        74.80  \n",
       "9         C   622 2024-06-01 09:00:00        60.45        74.80  \n",
       "10        B   622 2024-06-01 09:00:00        60.45        74.80  \n",
       "13        A   623 2024-06-01 10:00:00        60.47        36.15  "
      ]
     },
     "execution_count": 5,
     "metadata": {},
     "output_type": "execute_result"
    }
   ],
   "source": [
    "merged_df[merged_df['ship_method'].str.contains('fedex', regex=False)].head(5)"
   ]
  },
  {
   "cell_type": "code",
   "execution_count": 6,
   "id": "72d86cc3",
   "metadata": {},
   "outputs": [
    {
     "data": {
      "application/vnd.microsoft.datawrangler.viewer.v0+json": {
       "columns": [
        {
         "name": "index",
         "rawType": "int64",
         "type": "integer"
        },
        {
         "name": "id_x",
         "rawType": "int64",
         "type": "integer"
        },
        {
         "name": "timestamp_x",
         "rawType": "datetime64[ns]",
         "type": "datetime"
        },
        {
         "name": "ship_date",
         "rawType": "datetime64[ns]",
         "type": "datetime"
        },
        {
         "name": "defect_reported",
         "rawType": "object",
         "type": "unknown"
        },
        {
         "name": "defect_reported_bool",
         "rawType": "bool",
         "type": "boolean"
        },
        {
         "name": "pack_date",
         "rawType": "datetime64[ns]",
         "type": "datetime"
        },
        {
         "name": "order_id",
         "rawType": "object",
         "type": "string"
        },
        {
         "name": "number_of_items",
         "rawType": "int64",
         "type": "integer"
        },
        {
         "name": "ship_method",
         "rawType": "object",
         "type": "string"
        },
        {
         "name": "box_size",
         "rawType": "object",
         "type": "string"
        },
        {
         "name": "id_y",
         "rawType": "int64",
         "type": "integer"
        },
        {
         "name": "timestamp_y",
         "rawType": "datetime64[ns]",
         "type": "datetime"
        },
        {
         "name": "temperature",
         "rawType": "float64",
         "type": "float"
        },
        {
         "name": "noise_level",
         "rawType": "float64",
         "type": "float"
        }
       ],
       "conversionMethod": "pd.DataFrame",
       "ref": "aae195e4-9018-4440-a7bb-0ece4a3f4601",
       "rows": [
        [
         "7",
         "1655",
         "2024-06-01 01:00:00",
         "2024-06-01 19:00:00",
         null,
         "False",
         "2024-06-01 09:00:00",
         "990623e3-19b5-4080-b1b8-3165db8dc424",
         "3",
         "ups",
         "B",
         "622",
         "2024-06-01 09:00:00",
         "60.45",
         "74.8"
        ],
        [
         "8",
         "1656",
         "2024-05-31 23:00:00",
         "2024-06-02 05:00:00",
         null,
         "False",
         "2024-06-01 09:00:00",
         "892443f5-bbc8-4b64-8b80-9c260720a782",
         "3",
         "fedex",
         "A",
         "622",
         "2024-06-01 09:00:00",
         "60.45",
         "74.8"
        ],
        [
         "9",
         "1657",
         "2024-06-01 00:00:00",
         "2024-06-02 03:00:00",
         null,
         "False",
         "2024-06-01 09:00:00",
         "e7974d91-d59a-495d-9611-21452f818b75",
         "1",
         "fedex",
         "C",
         "622",
         "2024-06-01 09:00:00",
         "60.45",
         "74.8"
        ],
        [
         "10",
         "1658",
         "2024-05-31 19:00:00",
         "2024-06-01 17:00:00",
         "poorly packed",
         "True",
         "2024-06-01 09:00:00",
         "0b99d8cf-6654-4a9a-88b6-aeb9807e3e8f",
         "2",
         "fedex",
         "B",
         "622",
         "2024-06-01 09:00:00",
         "60.45",
         "74.8"
        ],
        [
         "14",
         "1662",
         "2024-06-01 11:00:00",
         "2024-06-02 05:00:00",
         null,
         "False",
         "2024-06-01 12:00:00",
         "a66fd1af-04b0-435d-8367-4cabf7d3f302",
         "2",
         "fedex",
         "B",
         "625",
         "2024-06-01 12:00:00",
         "64.67",
         "74.58"
        ]
       ],
       "shape": {
        "columns": 14,
        "rows": 5
       }
      },
      "text/html": [
       "<div>\n",
       "<style scoped>\n",
       "    .dataframe tbody tr th:only-of-type {\n",
       "        vertical-align: middle;\n",
       "    }\n",
       "\n",
       "    .dataframe tbody tr th {\n",
       "        vertical-align: top;\n",
       "    }\n",
       "\n",
       "    .dataframe thead th {\n",
       "        text-align: right;\n",
       "    }\n",
       "</style>\n",
       "<table border=\"1\" class=\"dataframe\">\n",
       "  <thead>\n",
       "    <tr style=\"text-align: right;\">\n",
       "      <th></th>\n",
       "      <th>id_x</th>\n",
       "      <th>timestamp_x</th>\n",
       "      <th>ship_date</th>\n",
       "      <th>defect_reported</th>\n",
       "      <th>defect_reported_bool</th>\n",
       "      <th>pack_date</th>\n",
       "      <th>order_id</th>\n",
       "      <th>number_of_items</th>\n",
       "      <th>ship_method</th>\n",
       "      <th>box_size</th>\n",
       "      <th>id_y</th>\n",
       "      <th>timestamp_y</th>\n",
       "      <th>temperature</th>\n",
       "      <th>noise_level</th>\n",
       "    </tr>\n",
       "  </thead>\n",
       "  <tbody>\n",
       "    <tr>\n",
       "      <th>7</th>\n",
       "      <td>1655</td>\n",
       "      <td>2024-06-01 01:00:00</td>\n",
       "      <td>2024-06-01 19:00:00</td>\n",
       "      <td>None</td>\n",
       "      <td>False</td>\n",
       "      <td>2024-06-01 09:00:00</td>\n",
       "      <td>990623e3-19b5-4080-b1b8-3165db8dc424</td>\n",
       "      <td>3</td>\n",
       "      <td>ups</td>\n",
       "      <td>B</td>\n",
       "      <td>622</td>\n",
       "      <td>2024-06-01 09:00:00</td>\n",
       "      <td>60.45</td>\n",
       "      <td>74.80</td>\n",
       "    </tr>\n",
       "    <tr>\n",
       "      <th>8</th>\n",
       "      <td>1656</td>\n",
       "      <td>2024-05-31 23:00:00</td>\n",
       "      <td>2024-06-02 05:00:00</td>\n",
       "      <td>None</td>\n",
       "      <td>False</td>\n",
       "      <td>2024-06-01 09:00:00</td>\n",
       "      <td>892443f5-bbc8-4b64-8b80-9c260720a782</td>\n",
       "      <td>3</td>\n",
       "      <td>fedex</td>\n",
       "      <td>A</td>\n",
       "      <td>622</td>\n",
       "      <td>2024-06-01 09:00:00</td>\n",
       "      <td>60.45</td>\n",
       "      <td>74.80</td>\n",
       "    </tr>\n",
       "    <tr>\n",
       "      <th>9</th>\n",
       "      <td>1657</td>\n",
       "      <td>2024-06-01 00:00:00</td>\n",
       "      <td>2024-06-02 03:00:00</td>\n",
       "      <td>None</td>\n",
       "      <td>False</td>\n",
       "      <td>2024-06-01 09:00:00</td>\n",
       "      <td>e7974d91-d59a-495d-9611-21452f818b75</td>\n",
       "      <td>1</td>\n",
       "      <td>fedex</td>\n",
       "      <td>C</td>\n",
       "      <td>622</td>\n",
       "      <td>2024-06-01 09:00:00</td>\n",
       "      <td>60.45</td>\n",
       "      <td>74.80</td>\n",
       "    </tr>\n",
       "    <tr>\n",
       "      <th>10</th>\n",
       "      <td>1658</td>\n",
       "      <td>2024-05-31 19:00:00</td>\n",
       "      <td>2024-06-01 17:00:00</td>\n",
       "      <td>poorly packed</td>\n",
       "      <td>True</td>\n",
       "      <td>2024-06-01 09:00:00</td>\n",
       "      <td>0b99d8cf-6654-4a9a-88b6-aeb9807e3e8f</td>\n",
       "      <td>2</td>\n",
       "      <td>fedex</td>\n",
       "      <td>B</td>\n",
       "      <td>622</td>\n",
       "      <td>2024-06-01 09:00:00</td>\n",
       "      <td>60.45</td>\n",
       "      <td>74.80</td>\n",
       "    </tr>\n",
       "    <tr>\n",
       "      <th>14</th>\n",
       "      <td>1662</td>\n",
       "      <td>2024-06-01 11:00:00</td>\n",
       "      <td>2024-06-02 05:00:00</td>\n",
       "      <td>None</td>\n",
       "      <td>False</td>\n",
       "      <td>2024-06-01 12:00:00</td>\n",
       "      <td>a66fd1af-04b0-435d-8367-4cabf7d3f302</td>\n",
       "      <td>2</td>\n",
       "      <td>fedex</td>\n",
       "      <td>B</td>\n",
       "      <td>625</td>\n",
       "      <td>2024-06-01 12:00:00</td>\n",
       "      <td>64.67</td>\n",
       "      <td>74.58</td>\n",
       "    </tr>\n",
       "  </tbody>\n",
       "</table>\n",
       "</div>"
      ],
      "text/plain": [
       "    id_x         timestamp_x           ship_date defect_reported  \\\n",
       "7   1655 2024-06-01 01:00:00 2024-06-01 19:00:00            None   \n",
       "8   1656 2024-05-31 23:00:00 2024-06-02 05:00:00            None   \n",
       "9   1657 2024-06-01 00:00:00 2024-06-02 03:00:00            None   \n",
       "10  1658 2024-05-31 19:00:00 2024-06-01 17:00:00   poorly packed   \n",
       "14  1662 2024-06-01 11:00:00 2024-06-02 05:00:00            None   \n",
       "\n",
       "    defect_reported_bool           pack_date  \\\n",
       "7                  False 2024-06-01 09:00:00   \n",
       "8                  False 2024-06-01 09:00:00   \n",
       "9                  False 2024-06-01 09:00:00   \n",
       "10                  True 2024-06-01 09:00:00   \n",
       "14                 False 2024-06-01 12:00:00   \n",
       "\n",
       "                                order_id  number_of_items ship_method  \\\n",
       "7   990623e3-19b5-4080-b1b8-3165db8dc424                3         ups   \n",
       "8   892443f5-bbc8-4b64-8b80-9c260720a782                3       fedex   \n",
       "9   e7974d91-d59a-495d-9611-21452f818b75                1       fedex   \n",
       "10  0b99d8cf-6654-4a9a-88b6-aeb9807e3e8f                2       fedex   \n",
       "14  a66fd1af-04b0-435d-8367-4cabf7d3f302                2       fedex   \n",
       "\n",
       "   box_size  id_y         timestamp_y  temperature  noise_level  \n",
       "7         B   622 2024-06-01 09:00:00        60.45        74.80  \n",
       "8         A   622 2024-06-01 09:00:00        60.45        74.80  \n",
       "9         C   622 2024-06-01 09:00:00        60.45        74.80  \n",
       "10        B   622 2024-06-01 09:00:00        60.45        74.80  \n",
       "14        B   625 2024-06-01 12:00:00        64.67        74.58  "
      ]
     },
     "execution_count": 6,
     "metadata": {},
     "output_type": "execute_result"
    }
   ],
   "source": [
    "merged_df[merged_df['noise_level'] > 70].head(5)"
   ]
  },
  {
   "cell_type": "markdown",
   "id": "85b2f561",
   "metadata": {},
   "source": [
    "#### Correlation analysis\n",
    "\n",
    "The original hypothesis says that bringing down air temperature and noise levels would reduce error rates. So I want to look at correlation analysis in two time periods: 'pre' and 'post' applying temperature and noise mitigation."
   ]
  },
  {
   "cell_type": "code",
   "execution_count": 7,
   "id": "1c3723d5",
   "metadata": {},
   "outputs": [
    {
     "data": {
      "application/vnd.microsoft.datawrangler.viewer.v0+json": {
       "columns": [
        {
         "name": "index",
         "rawType": "int64",
         "type": "integer"
        },
        {
         "name": "id_x",
         "rawType": "int64",
         "type": "integer"
        },
        {
         "name": "timestamp_x",
         "rawType": "datetime64[ns]",
         "type": "datetime"
        },
        {
         "name": "ship_date",
         "rawType": "datetime64[ns]",
         "type": "datetime"
        },
        {
         "name": "defect_reported",
         "rawType": "object",
         "type": "unknown"
        },
        {
         "name": "defect_reported_bool",
         "rawType": "bool",
         "type": "boolean"
        },
        {
         "name": "pack_date",
         "rawType": "datetime64[ns]",
         "type": "datetime"
        },
        {
         "name": "order_id",
         "rawType": "object",
         "type": "string"
        },
        {
         "name": "number_of_items",
         "rawType": "int64",
         "type": "integer"
        },
        {
         "name": "ship_method",
         "rawType": "object",
         "type": "string"
        },
        {
         "name": "box_size",
         "rawType": "object",
         "type": "string"
        },
        {
         "name": "id_y",
         "rawType": "int64",
         "type": "integer"
        },
        {
         "name": "timestamp_y",
         "rawType": "datetime64[ns]",
         "type": "datetime"
        },
        {
         "name": "temperature",
         "rawType": "float64",
         "type": "float"
        },
        {
         "name": "noise_level",
         "rawType": "float64",
         "type": "float"
        },
        {
         "name": "mitigation_period",
         "rawType": "object",
         "type": "string"
        }
       ],
       "conversionMethod": "pd.DataFrame",
       "ref": "ceb46815-e806-49f8-8c23-ce4435b4e473",
       "rows": [
        [
         "0",
         "1654",
         "2024-05-31 16:00:00",
         "2024-06-01 23:00:00",
         null,
         "False",
         "2024-06-01 08:00:00",
         "0cba0463-629f-4486-ae60-996ab3c9dc10",
         "5",
         "ups",
         "B",
         "621",
         "2024-06-01 08:00:00",
         "60.18",
         "36.65",
         "pre"
        ],
        [
         "1",
         "1650",
         "2024-06-01 04:00:00",
         "2024-06-01 18:00:00",
         null,
         "False",
         "2024-06-01 08:00:00",
         "f563aa2e-221d-43b9-bd71-27e239aabc77",
         "3",
         "usps",
         "A",
         "621",
         "2024-06-01 08:00:00",
         "60.18",
         "36.65",
         "pre"
        ],
        [
         "2",
         "1651",
         "2024-05-31 22:00:00",
         "2024-06-02 07:00:00",
         null,
         "False",
         "2024-06-01 08:00:00",
         "03bf4431-a702-413e-8102-d8d2769bad13",
         "3",
         "dhl",
         "C",
         "621",
         "2024-06-01 08:00:00",
         "60.18",
         "36.65",
         "pre"
        ],
        [
         "3",
         "1652",
         "2024-06-01 04:00:00",
         "2024-06-02 07:00:00",
         null,
         "False",
         "2024-06-01 08:00:00",
         "cb5fc7f8-9aa0-46ba-a2f1-dee6f13655e6",
         "3",
         "fedex",
         "C",
         "621",
         "2024-06-01 08:00:00",
         "60.18",
         "36.65",
         "pre"
        ],
        [
         "4",
         "1653",
         "2024-05-31 18:00:00",
         "2024-06-02 06:00:00",
         null,
         "False",
         "2024-06-01 08:00:00",
         "fc7e09fb-cb80-45f8-b241-3213e666373d",
         "3",
         "ups",
         "A",
         "621",
         "2024-06-01 08:00:00",
         "60.18",
         "36.65",
         "pre"
        ]
       ],
       "shape": {
        "columns": 15,
        "rows": 5
       }
      },
      "text/html": [
       "<div>\n",
       "<style scoped>\n",
       "    .dataframe tbody tr th:only-of-type {\n",
       "        vertical-align: middle;\n",
       "    }\n",
       "\n",
       "    .dataframe tbody tr th {\n",
       "        vertical-align: top;\n",
       "    }\n",
       "\n",
       "    .dataframe thead th {\n",
       "        text-align: right;\n",
       "    }\n",
       "</style>\n",
       "<table border=\"1\" class=\"dataframe\">\n",
       "  <thead>\n",
       "    <tr style=\"text-align: right;\">\n",
       "      <th></th>\n",
       "      <th>id_x</th>\n",
       "      <th>timestamp_x</th>\n",
       "      <th>ship_date</th>\n",
       "      <th>defect_reported</th>\n",
       "      <th>defect_reported_bool</th>\n",
       "      <th>pack_date</th>\n",
       "      <th>order_id</th>\n",
       "      <th>number_of_items</th>\n",
       "      <th>ship_method</th>\n",
       "      <th>box_size</th>\n",
       "      <th>id_y</th>\n",
       "      <th>timestamp_y</th>\n",
       "      <th>temperature</th>\n",
       "      <th>noise_level</th>\n",
       "      <th>mitigation_period</th>\n",
       "    </tr>\n",
       "  </thead>\n",
       "  <tbody>\n",
       "    <tr>\n",
       "      <th>0</th>\n",
       "      <td>1654</td>\n",
       "      <td>2024-05-31 16:00:00</td>\n",
       "      <td>2024-06-01 23:00:00</td>\n",
       "      <td>None</td>\n",
       "      <td>False</td>\n",
       "      <td>2024-06-01 08:00:00</td>\n",
       "      <td>0cba0463-629f-4486-ae60-996ab3c9dc10</td>\n",
       "      <td>5</td>\n",
       "      <td>ups</td>\n",
       "      <td>B</td>\n",
       "      <td>621</td>\n",
       "      <td>2024-06-01 08:00:00</td>\n",
       "      <td>60.18</td>\n",
       "      <td>36.65</td>\n",
       "      <td>pre</td>\n",
       "    </tr>\n",
       "    <tr>\n",
       "      <th>1</th>\n",
       "      <td>1650</td>\n",
       "      <td>2024-06-01 04:00:00</td>\n",
       "      <td>2024-06-01 18:00:00</td>\n",
       "      <td>None</td>\n",
       "      <td>False</td>\n",
       "      <td>2024-06-01 08:00:00</td>\n",
       "      <td>f563aa2e-221d-43b9-bd71-27e239aabc77</td>\n",
       "      <td>3</td>\n",
       "      <td>usps</td>\n",
       "      <td>A</td>\n",
       "      <td>621</td>\n",
       "      <td>2024-06-01 08:00:00</td>\n",
       "      <td>60.18</td>\n",
       "      <td>36.65</td>\n",
       "      <td>pre</td>\n",
       "    </tr>\n",
       "    <tr>\n",
       "      <th>2</th>\n",
       "      <td>1651</td>\n",
       "      <td>2024-05-31 22:00:00</td>\n",
       "      <td>2024-06-02 07:00:00</td>\n",
       "      <td>None</td>\n",
       "      <td>False</td>\n",
       "      <td>2024-06-01 08:00:00</td>\n",
       "      <td>03bf4431-a702-413e-8102-d8d2769bad13</td>\n",
       "      <td>3</td>\n",
       "      <td>dhl</td>\n",
       "      <td>C</td>\n",
       "      <td>621</td>\n",
       "      <td>2024-06-01 08:00:00</td>\n",
       "      <td>60.18</td>\n",
       "      <td>36.65</td>\n",
       "      <td>pre</td>\n",
       "    </tr>\n",
       "    <tr>\n",
       "      <th>3</th>\n",
       "      <td>1652</td>\n",
       "      <td>2024-06-01 04:00:00</td>\n",
       "      <td>2024-06-02 07:00:00</td>\n",
       "      <td>None</td>\n",
       "      <td>False</td>\n",
       "      <td>2024-06-01 08:00:00</td>\n",
       "      <td>cb5fc7f8-9aa0-46ba-a2f1-dee6f13655e6</td>\n",
       "      <td>3</td>\n",
       "      <td>fedex</td>\n",
       "      <td>C</td>\n",
       "      <td>621</td>\n",
       "      <td>2024-06-01 08:00:00</td>\n",
       "      <td>60.18</td>\n",
       "      <td>36.65</td>\n",
       "      <td>pre</td>\n",
       "    </tr>\n",
       "    <tr>\n",
       "      <th>4</th>\n",
       "      <td>1653</td>\n",
       "      <td>2024-05-31 18:00:00</td>\n",
       "      <td>2024-06-02 06:00:00</td>\n",
       "      <td>None</td>\n",
       "      <td>False</td>\n",
       "      <td>2024-06-01 08:00:00</td>\n",
       "      <td>fc7e09fb-cb80-45f8-b241-3213e666373d</td>\n",
       "      <td>3</td>\n",
       "      <td>ups</td>\n",
       "      <td>A</td>\n",
       "      <td>621</td>\n",
       "      <td>2024-06-01 08:00:00</td>\n",
       "      <td>60.18</td>\n",
       "      <td>36.65</td>\n",
       "      <td>pre</td>\n",
       "    </tr>\n",
       "  </tbody>\n",
       "</table>\n",
       "</div>"
      ],
      "text/plain": [
       "   id_x         timestamp_x           ship_date defect_reported  \\\n",
       "0  1654 2024-05-31 16:00:00 2024-06-01 23:00:00            None   \n",
       "1  1650 2024-06-01 04:00:00 2024-06-01 18:00:00            None   \n",
       "2  1651 2024-05-31 22:00:00 2024-06-02 07:00:00            None   \n",
       "3  1652 2024-06-01 04:00:00 2024-06-02 07:00:00            None   \n",
       "4  1653 2024-05-31 18:00:00 2024-06-02 06:00:00            None   \n",
       "\n",
       "   defect_reported_bool           pack_date  \\\n",
       "0                 False 2024-06-01 08:00:00   \n",
       "1                 False 2024-06-01 08:00:00   \n",
       "2                 False 2024-06-01 08:00:00   \n",
       "3                 False 2024-06-01 08:00:00   \n",
       "4                 False 2024-06-01 08:00:00   \n",
       "\n",
       "                               order_id  number_of_items ship_method box_size  \\\n",
       "0  0cba0463-629f-4486-ae60-996ab3c9dc10                5         ups        B   \n",
       "1  f563aa2e-221d-43b9-bd71-27e239aabc77                3        usps        A   \n",
       "2  03bf4431-a702-413e-8102-d8d2769bad13                3         dhl        C   \n",
       "3  cb5fc7f8-9aa0-46ba-a2f1-dee6f13655e6                3       fedex        C   \n",
       "4  fc7e09fb-cb80-45f8-b241-3213e666373d                3         ups        A   \n",
       "\n",
       "   id_y         timestamp_y  temperature  noise_level mitigation_period  \n",
       "0   621 2024-06-01 08:00:00        60.18        36.65               pre  \n",
       "1   621 2024-06-01 08:00:00        60.18        36.65               pre  \n",
       "2   621 2024-06-01 08:00:00        60.18        36.65               pre  \n",
       "3   621 2024-06-01 08:00:00        60.18        36.65               pre  \n",
       "4   621 2024-06-01 08:00:00        60.18        36.65               pre  "
      ]
     },
     "execution_count": 7,
     "metadata": {},
     "output_type": "execute_result"
    }
   ],
   "source": [
    "merged_df['mitigation_period'] = merged_df['pack_date'].dt.month.map(\n",
    "    lambda m: 'pre' if m in [6, 7] else 'post'\n",
    ")\n",
    "\n",
    "merged_df.head()"
   ]
  },
  {
   "cell_type": "code",
   "execution_count": 8,
   "id": "195db9c4",
   "metadata": {},
   "outputs": [
    {
     "data": {
      "application/vnd.microsoft.datawrangler.viewer.v0+json": {
       "columns": [
        {
         "name": "index",
         "rawType": "object",
         "type": "string"
        },
        {
         "name": "id_x",
         "rawType": "float64",
         "type": "float"
        },
        {
         "name": "defect_reported_bool",
         "rawType": "float64",
         "type": "float"
        },
        {
         "name": "number_of_items",
         "rawType": "float64",
         "type": "float"
        },
        {
         "name": "id_y",
         "rawType": "float64",
         "type": "float"
        },
        {
         "name": "temperature",
         "rawType": "float64",
         "type": "float"
        },
        {
         "name": "noise_level",
         "rawType": "float64",
         "type": "float"
        }
       ],
       "conversionMethod": "pd.DataFrame",
       "ref": "fd2604e5-d0b9-4144-8f55-00156b889912",
       "rows": [
        [
         "id_x",
         "1.0",
         "-0.1",
         "-0.01",
         "1.0",
         "-0.04",
         "-0.12"
        ],
        [
         "defect_reported_bool",
         "-0.1",
         "1.0",
         "-0.01",
         "-0.1",
         "0.16",
         "0.15"
        ],
        [
         "number_of_items",
         "-0.01",
         "-0.01",
         "1.0",
         "-0.01",
         "-0.02",
         "0.04"
        ],
        [
         "id_y",
         "1.0",
         "-0.1",
         "-0.01",
         "1.0",
         "-0.04",
         "-0.12"
        ],
        [
         "temperature",
         "-0.04",
         "0.16",
         "-0.02",
         "-0.04",
         "1.0",
         "0.01"
        ],
        [
         "noise_level",
         "-0.12",
         "0.15",
         "0.04",
         "-0.12",
         "0.01",
         "1.0"
        ]
       ],
       "shape": {
        "columns": 6,
        "rows": 6
       }
      },
      "text/html": [
       "<div>\n",
       "<style scoped>\n",
       "    .dataframe tbody tr th:only-of-type {\n",
       "        vertical-align: middle;\n",
       "    }\n",
       "\n",
       "    .dataframe tbody tr th {\n",
       "        vertical-align: top;\n",
       "    }\n",
       "\n",
       "    .dataframe thead th {\n",
       "        text-align: right;\n",
       "    }\n",
       "</style>\n",
       "<table border=\"1\" class=\"dataframe\">\n",
       "  <thead>\n",
       "    <tr style=\"text-align: right;\">\n",
       "      <th></th>\n",
       "      <th>id_x</th>\n",
       "      <th>defect_reported_bool</th>\n",
       "      <th>number_of_items</th>\n",
       "      <th>id_y</th>\n",
       "      <th>temperature</th>\n",
       "      <th>noise_level</th>\n",
       "    </tr>\n",
       "  </thead>\n",
       "  <tbody>\n",
       "    <tr>\n",
       "      <th>id_x</th>\n",
       "      <td>1.00</td>\n",
       "      <td>-0.10</td>\n",
       "      <td>-0.01</td>\n",
       "      <td>1.00</td>\n",
       "      <td>-0.04</td>\n",
       "      <td>-0.12</td>\n",
       "    </tr>\n",
       "    <tr>\n",
       "      <th>defect_reported_bool</th>\n",
       "      <td>-0.10</td>\n",
       "      <td>1.00</td>\n",
       "      <td>-0.01</td>\n",
       "      <td>-0.10</td>\n",
       "      <td>0.16</td>\n",
       "      <td>0.15</td>\n",
       "    </tr>\n",
       "    <tr>\n",
       "      <th>number_of_items</th>\n",
       "      <td>-0.01</td>\n",
       "      <td>-0.01</td>\n",
       "      <td>1.00</td>\n",
       "      <td>-0.01</td>\n",
       "      <td>-0.02</td>\n",
       "      <td>0.04</td>\n",
       "    </tr>\n",
       "    <tr>\n",
       "      <th>id_y</th>\n",
       "      <td>1.00</td>\n",
       "      <td>-0.10</td>\n",
       "      <td>-0.01</td>\n",
       "      <td>1.00</td>\n",
       "      <td>-0.04</td>\n",
       "      <td>-0.12</td>\n",
       "    </tr>\n",
       "    <tr>\n",
       "      <th>temperature</th>\n",
       "      <td>-0.04</td>\n",
       "      <td>0.16</td>\n",
       "      <td>-0.02</td>\n",
       "      <td>-0.04</td>\n",
       "      <td>1.00</td>\n",
       "      <td>0.01</td>\n",
       "    </tr>\n",
       "    <tr>\n",
       "      <th>noise_level</th>\n",
       "      <td>-0.12</td>\n",
       "      <td>0.15</td>\n",
       "      <td>0.04</td>\n",
       "      <td>-0.12</td>\n",
       "      <td>0.01</td>\n",
       "      <td>1.00</td>\n",
       "    </tr>\n",
       "  </tbody>\n",
       "</table>\n",
       "</div>"
      ],
      "text/plain": [
       "                      id_x  defect_reported_bool  number_of_items  id_y  \\\n",
       "id_x                  1.00                 -0.10            -0.01  1.00   \n",
       "defect_reported_bool -0.10                  1.00            -0.01 -0.10   \n",
       "number_of_items      -0.01                 -0.01             1.00 -0.01   \n",
       "id_y                  1.00                 -0.10            -0.01  1.00   \n",
       "temperature          -0.04                  0.16            -0.02 -0.04   \n",
       "noise_level          -0.12                  0.15             0.04 -0.12   \n",
       "\n",
       "                      temperature  noise_level  \n",
       "id_x                        -0.04        -0.12  \n",
       "defect_reported_bool         0.16         0.15  \n",
       "number_of_items             -0.02         0.04  \n",
       "id_y                        -0.04        -0.12  \n",
       "temperature                  1.00         0.01  \n",
       "noise_level                  0.01         1.00  "
      ]
     },
     "execution_count": 8,
     "metadata": {},
     "output_type": "execute_result"
    }
   ],
   "source": [
    "merged_df.corr(numeric_only=True).round(2) \n",
    "# 0.15 between defect_reported and temperature and 0.15 between defect_reported and noise_level"
   ]
  },
  {
   "cell_type": "markdown",
   "id": "5ec477db",
   "metadata": {},
   "source": [
    "#### Test: Groupby operation\n",
    "\n",
    "groupby() returns a Group By object, a blueprint for performing operations within each group. Performing an aggregation or transformation action converts it back into a Dataframe."
   ]
  },
  {
   "cell_type": "code",
   "execution_count": null,
   "id": "850f411f",
   "metadata": {},
   "outputs": [
    {
     "data": {
      "application/vnd.microsoft.datawrangler.viewer.v0+json": {
       "columns": [
        {
         "name": "index",
         "rawType": "int64",
         "type": "integer"
        },
        {
         "name": "Mitigation Period",
         "rawType": "object",
         "type": "string"
        },
        {
         "name": "Defect Reported (Bool)",
         "rawType": "bool",
         "type": "boolean"
        },
        {
         "name": "Temperature - Mean",
         "rawType": "float64",
         "type": "float"
        },
        {
         "name": "Temperature - Median",
         "rawType": "float64",
         "type": "float"
        },
        {
         "name": "Temperature - Std",
         "rawType": "float64",
         "type": "float"
        },
        {
         "name": "Noise Level - Mean",
         "rawType": "float64",
         "type": "float"
        },
        {
         "name": "Noise Level - Median",
         "rawType": "float64",
         "type": "float"
        },
        {
         "name": "Noise Level - Std",
         "rawType": "float64",
         "type": "float"
        }
       ],
       "conversionMethod": "pd.DataFrame",
       "ref": "696cb72c-ea63-40bf-bee6-253667a0709b",
       "rows": [
        [
         "0",
         "post",
         "False",
         "69.12",
         "68.97",
         "6.65",
         "41.99",
         "40.27",
         "13.48"
        ],
        [
         "1",
         "post",
         "True",
         "67.12",
         "66.4",
         "6.06",
         "43.88",
         "42.4",
         "12.35"
        ],
        [
         "2",
         "pre",
         "False",
         "70.0",
         "69.34",
         "8.01",
         "45.49",
         "40.94",
         "18.18"
        ],
        [
         "3",
         "pre",
         "True",
         "76.49",
         "80.91",
         "10.21",
         "56.11",
         "64.22",
         "18.7"
        ]
       ],
       "shape": {
        "columns": 8,
        "rows": 4
       }
      },
      "text/html": [
       "<div>\n",
       "<style scoped>\n",
       "    .dataframe tbody tr th:only-of-type {\n",
       "        vertical-align: middle;\n",
       "    }\n",
       "\n",
       "    .dataframe tbody tr th {\n",
       "        vertical-align: top;\n",
       "    }\n",
       "\n",
       "    .dataframe thead th {\n",
       "        text-align: right;\n",
       "    }\n",
       "</style>\n",
       "<table border=\"1\" class=\"dataframe\">\n",
       "  <thead>\n",
       "    <tr style=\"text-align: right;\">\n",
       "      <th></th>\n",
       "      <th>Mitigation Period</th>\n",
       "      <th>Defect Reported (Bool)</th>\n",
       "      <th>Temperature - Mean</th>\n",
       "      <th>Temperature - Median</th>\n",
       "      <th>Temperature - Std</th>\n",
       "      <th>Noise Level - Mean</th>\n",
       "      <th>Noise Level - Median</th>\n",
       "      <th>Noise Level - Std</th>\n",
       "    </tr>\n",
       "  </thead>\n",
       "  <tbody>\n",
       "    <tr>\n",
       "      <th>0</th>\n",
       "      <td>post</td>\n",
       "      <td>False</td>\n",
       "      <td>69.12</td>\n",
       "      <td>68.97</td>\n",
       "      <td>6.65</td>\n",
       "      <td>41.99</td>\n",
       "      <td>40.27</td>\n",
       "      <td>13.48</td>\n",
       "    </tr>\n",
       "    <tr>\n",
       "      <th>1</th>\n",
       "      <td>post</td>\n",
       "      <td>True</td>\n",
       "      <td>67.12</td>\n",
       "      <td>66.40</td>\n",
       "      <td>6.06</td>\n",
       "      <td>43.88</td>\n",
       "      <td>42.40</td>\n",
       "      <td>12.35</td>\n",
       "    </tr>\n",
       "    <tr>\n",
       "      <th>2</th>\n",
       "      <td>pre</td>\n",
       "      <td>False</td>\n",
       "      <td>70.00</td>\n",
       "      <td>69.34</td>\n",
       "      <td>8.01</td>\n",
       "      <td>45.49</td>\n",
       "      <td>40.94</td>\n",
       "      <td>18.18</td>\n",
       "    </tr>\n",
       "    <tr>\n",
       "      <th>3</th>\n",
       "      <td>pre</td>\n",
       "      <td>True</td>\n",
       "      <td>76.49</td>\n",
       "      <td>80.91</td>\n",
       "      <td>10.21</td>\n",
       "      <td>56.11</td>\n",
       "      <td>64.22</td>\n",
       "      <td>18.70</td>\n",
       "    </tr>\n",
       "  </tbody>\n",
       "</table>\n",
       "</div>"
      ],
      "text/plain": [
       "  Mitigation Period  Defect Reported (Bool)  Temperature - Mean  \\\n",
       "0              post                   False               69.12   \n",
       "1              post                    True               67.12   \n",
       "2               pre                   False               70.00   \n",
       "3               pre                    True               76.49   \n",
       "\n",
       "   Temperature - Median  Temperature - Std  Noise Level - Mean  \\\n",
       "0                 68.97               6.65               41.99   \n",
       "1                 66.40               6.06               43.88   \n",
       "2                 69.34               8.01               45.49   \n",
       "3                 80.91              10.21               56.11   \n",
       "\n",
       "   Noise Level - Median  Noise Level - Std  \n",
       "0                 40.27              13.48  \n",
       "1                 42.40              12.35  \n",
       "2                 40.94              18.18  \n",
       "3                 64.22              18.70  "
      ]
     },
     "execution_count": 9,
     "metadata": {},
     "output_type": "execute_result"
    }
   ],
   "source": [
    "grouped_data = merged_df.groupby(['mitigation_period', 'defect_reported_bool'], as_index=False, observed=False)\n",
    "\n",
    "agg_df = grouped_data[['temperature','noise_level']].agg(['mean', 'median', 'std']).round(2)\n",
    "agg_df.columns = ['Mitigation Period', 'Defect Reported (Bool)', 'Temperature - Mean', 'Temperature - Median', 'Temperature - Std', 'Noise Level - Mean', 'Noise Level - Median', 'Noise Level - Std']\n",
    "agg_df.head()"
   ]
  },
  {
   "cell_type": "markdown",
   "id": "bb3959b7",
   "metadata": {},
   "source": [
    "#### Analysis for visualization\n",
    "\n",
    "Defect rate per temperature range"
   ]
  },
  {
   "cell_type": "code",
   "execution_count": null,
   "id": "0e66fc01",
   "metadata": {},
   "outputs": [
    {
     "name": "stdout",
     "output_type": "stream",
     "text": [
      "                              total_orders  defect_count  defect_rate\n",
      "mitigation_period temp_range                                         \n",
      "pre               60-65                730          53.0     0.072603\n",
      "                  65-70                395          17.0     0.043038\n",
      "                  70-75                447          17.0     0.038031\n",
      "                  75-80                265          14.0     0.052830\n",
      "                  80-85                222          67.0     0.301802\n",
      "                  85-90                150          52.0     0.346667\n",
      "post              60-65                725          23.0     0.031724\n",
      "                  65-70                486          15.0     0.030864\n",
      "                  70-75                428           9.0     0.021028\n",
      "                  75-80                526           7.0     0.013308\n",
      "                  80-85                  0           NaN          NaN\n",
      "                  85-90                  0           NaN          NaN\n"
     ]
    },
    {
     "name": "stderr",
     "output_type": "stream",
     "text": [
      "C:\\Users\\cylinder\\AppData\\Local\\Temp\\ipykernel_27252\\269539083.py:12: FutureWarning: The default of observed=False is deprecated and will be changed to True in a future version of pandas. Pass observed=False to retain current behavior or observed=True to adopt the future default and silence this warning.\n",
      "  merged_df.groupby(['mitigation_period', 'temp_range']).agg(\n"
     ]
    }
   ],
   "source": [
    "# merged_df['temp_range'].describe()\n",
    "\n",
    "# Create a temp_range\n",
    "merged_df['temp_range'] = pd.cut(\n",
    "    merged_df['temperature'],\n",
    "    bins=[60, 65, 70, 75, 80, 85, 90],\n",
    "    labels=['60-65', '65-70', '70-75', '75-80', '80-85', '85-90']\n",
    ")\n",
    "\n",
    "# Create grouping by mitigation_period and temp_range, aggregate total_orders and defect_count \n",
    "grouped_temp = (\n",
    "    merged_df.groupby(['mitigation_period', 'temp_range'], observed=False).agg(\n",
    "        total_orders=('order_id', 'count'),\n",
    "        defect_count=('defect_reported', lambda x: x.notna().sum())\n",
    "    )\n",
    ").sort_values(by='mitigation_period', ascending=False)\n",
    "\n",
    "# On the returned dataframe, calculate defect_rate from total_orders and defect_count\n",
    "grouped_temp['defect_rate'] = grouped_temp['defect_count'] / grouped_temp['total_orders']\n",
    "\n",
    "print(grouped_temp)"
   ]
  },
  {
   "cell_type": "markdown",
   "id": "acc5ce91",
   "metadata": {},
   "source": [
    "Defect rate per noise level range"
   ]
  },
  {
   "cell_type": "code",
   "execution_count": null,
   "id": "9ab14541",
   "metadata": {},
   "outputs": [
    {
     "name": "stdout",
     "output_type": "stream",
     "text": [
      "                                     total_orders  defect_count  defect_rate\n",
      "mitigation_period noise_level_range                                         \n",
      "pre               20-30                       487          28.0     0.057495\n",
      "                  30-40                       537          36.0     0.067039\n",
      "                  40-50                       449          22.0     0.048998\n",
      "                  50-60                         0           NaN          NaN\n",
      "                  60-70                       380          72.0     0.189474\n",
      "                  70-80                       356          62.0     0.174157\n",
      "post              20-30                       513          10.0     0.019493\n",
      "                  30-40                       551          15.0     0.027223\n",
      "                  40-50                       424          12.0     0.028302\n",
      "                  50-60                       677          17.0     0.025111\n",
      "                  60-70                         0           NaN          NaN\n",
      "                  70-80                         0           NaN          NaN\n"
     ]
    },
    {
     "name": "stderr",
     "output_type": "stream",
     "text": [
      "C:\\Users\\cylinder\\AppData\\Local\\Temp\\ipykernel_27252\\1141754201.py:11: FutureWarning: The default of observed=False is deprecated and will be changed to True in a future version of pandas. Pass observed=False to retain current behavior or observed=True to adopt the future default and silence this warning.\n",
      "  grouped_noise = merged_df.groupby(['mitigation_period', 'noise_level_range']).agg(\n"
     ]
    }
   ],
   "source": [
    "# merged_df['noise_level'].describe()\n",
    "\n",
    "# Create a noise_range\n",
    "merged_df['noise_level_range'] = pd.cut(\n",
    "    merged_df['noise_level'],\n",
    "    bins = [20, 30, 40, 50, 60, 70, 80],\n",
    "    labels = ['20-30', '30-40', '40-50', '50-60', '60-70', '70-80']\n",
    ")\n",
    "\n",
    "# Create grouping by mitigation_period and noise_range, aggregate total_orders and defect_count\n",
    "grouped_noise = merged_df.groupby(['mitigation_period', 'noise_level_range'], observed=False).agg(\n",
    "    total_orders = ('order_id', 'count'),\n",
    "    defect_count = ('defect_reported', lambda x: x.notna().sum())\n",
    ").sort_values(by='mitigation_period', ascending=False)\n",
    "\n",
    "# On the returned dataframe, calculate defect_rate from total_orders and defect_count\n",
    "grouped_noise['defect_rate'] = grouped_noise['defect_count'] / grouped_noise['total_orders']\n",
    "\n",
    "print(grouped_noise)"
   ]
  },
  {
   "cell_type": "markdown",
   "id": "0aa621db",
   "metadata": {},
   "source": [
    "Defect rate overall"
   ]
  },
  {
   "cell_type": "code",
   "execution_count": null,
   "id": "b8065af4",
   "metadata": {},
   "outputs": [
    {
     "name": "stdout",
     "output_type": "stream",
     "text": [
      "                   total_orders  defect_count  defect_rate     period_label\n",
      "mitigation_period                                                          \n",
      "pre                        2209           220     0.099593   Pre-mitigation\n",
      "post                       2165            54     0.024942  Post-mitigation\n"
     ]
    }
   ],
   "source": [
    "grouped_all_defects = merged_df.groupby('mitigation_period', observed=False).agg(\n",
    "    total_orders = ('order_id', 'count'),\n",
    "    defect_count = ('defect_reported', lambda x: x.notna().sum())\n",
    ").sort_values(by='mitigation_period', ascending=False)\n",
    "\n",
    "grouped_all_defects['defect_rate'] = grouped_all_defects['defect_count'] / grouped_all_defects['total_orders'] \n",
    "\n",
    "# Set a new column to use in bar plot to force ordering 'pre' before 'post'\n",
    "grouped_all_defects['period_label'] = grouped_all_defects.index.str.capitalize() + '-mitigation'\n",
    "\n",
    "print(grouped_all_defects)"
   ]
  },
  {
   "cell_type": "markdown",
   "id": "285cbed7",
   "metadata": {},
   "source": [
    "Pivot tables to cross-reference defects"
   ]
  },
  {
   "cell_type": "code",
   "execution_count": null,
   "id": "ef595a74",
   "metadata": {},
   "outputs": [
    {
     "name": "stderr",
     "output_type": "stream",
     "text": [
      "C:\\Users\\cylinder\\AppData\\Local\\Temp\\ipykernel_27252\\3693067114.py:6: FutureWarning: The default value of observed=False is deprecated and will change to observed=True in a future version of pandas. Specify observed=False to silence this warning and retain the current behavior\n",
      "  pivot_objects[f'{period}_pivot'] = pivot_objects[period].pivot_table(\n",
      "C:\\Users\\cylinder\\AppData\\Local\\Temp\\ipykernel_27252\\3693067114.py:6: FutureWarning: The default value of observed=False is deprecated and will change to observed=True in a future version of pandas. Specify observed=False to silence this warning and retain the current behavior\n",
      "  pivot_objects[f'{period}_pivot'] = pivot_objects[period].pivot_table(\n"
     ]
    }
   ],
   "source": [
    "# Create 'pre' and 'post' dataframes as two pivot tables\n",
    "\n",
    "pivot_periods = ['pre', 'post']\n",
    "pivot_objects = {}\n",
    "\n",
    "for period in pivot_periods:\n",
    "    pivot_objects[period] = merged_df[merged_df['mitigation_period'] == period]\n",
    "    pivot_objects[f'{period}_pivot'] = pivot_objects[period].pivot_table(\n",
    "        index='temp_range',\n",
    "        columns='noise_level_range',\n",
    "        values='defect_reported',\n",
    "        aggfunc=lambda x: x.notna().mean()\n",
    "    )\n",
    "\n",
    "# pivot_objects['pre_pivot']\n",
    "# pivot_objects['post_pivot]"
   ]
  },
  {
   "cell_type": "markdown",
   "id": "47e498e0",
   "metadata": {},
   "source": [
    "#### Visualizations\n",
    "\n",
    "Temperature range bar plot"
   ]
  },
  {
   "cell_type": "code",
   "execution_count": null,
   "id": "8dcbcb77",
   "metadata": {},
   "outputs": [
    {
     "name": "stderr",
     "output_type": "stream",
     "text": [
      "C:\\Users\\cylinder\\AppData\\Local\\Temp\\ipykernel_27252\\3125190866.py:12: UserWarning: set_ticklabels() should only be used with a fixed number of ticks, i.e. after set_ticks() or using a FixedLocator.\n",
      "  temp_plot.set_yticklabels(['{:,.0%}'.format(x) for x in temp_plot.get_yticks()])\n"
     ]
    },
    {
     "data": {
      "text/plain": [
       "[Text(0, 0.0, '0%'),\n",
       " Text(0, 0.05, '5%'),\n",
       " Text(0, 0.1, '10%'),\n",
       " Text(0, 0.15000000000000002, '15%'),\n",
       " Text(0, 0.2, '20%'),\n",
       " Text(0, 0.25, '25%'),\n",
       " Text(0, 0.30000000000000004, '30%'),\n",
       " Text(0, 0.35000000000000003, '35%'),\n",
       " Text(0, 0.4, '40%')]"
      ]
     },
     "execution_count": 102,
     "metadata": {},
     "output_type": "execute_result"
    },
    {
     "data": {
      "image/png": "[encoded data removed]",
      "text/plain": [
       "<Figure size 640x480 with 1 Axes>"
      ]
     },
     "metadata": {},
     "output_type": "display_data"
    }
   ],
   "source": [
    "sns.set_theme(style='darkgrid', palette='gist_earth')\n",
    "\n",
    "temp_plot = sns.barplot(\n",
    "    data=grouped_temp.reset_index(),        # get rid of the multindex from the grouping\n",
    "    x='temp_range',\n",
    "    y='defect_rate',\n",
    "    hue='mitigation_period'\n",
    ")\n",
    "\n",
    "temp_plot.set(xlabel='Temperature Range (°F)', ylabel='Defect Rate')\n",
    "temp_plot.legend(title='Mitigation')\n",
    "temp_plot.set_title(\"Temperature Defect Rate\")\n",
    "temp_plot.set_yticklabels(['{:,.0%}'.format(x) for x in temp_plot.get_yticks()])"
   ]
  },
  {
   "cell_type": "markdown",
   "id": "0d14d730",
   "metadata": {},
   "source": [
    "Noise level bar plot"
   ]
  },
  {
   "cell_type": "code",
   "execution_count": null,
   "id": "3be803f8",
   "metadata": {},
   "outputs": [
    {
     "name": "stderr",
     "output_type": "stream",
     "text": [
      "C:\\Users\\cylinder\\AppData\\Local\\Temp\\ipykernel_27252\\716555677.py:13: UserWarning: set_ticklabels() should only be used with a fixed number of ticks, i.e. after set_ticks() or using a FixedLocator.\n",
      "  noise_plot.set_yticklabels(['{:,.0%}'.format(x) for x in noise_plot.get_yticks()])\n"
     ]
    },
    {
     "data": {
      "text/plain": [
       "[Text(0, 0.0, '0%'),\n",
       " Text(0, 0.025, '2%'),\n",
       " Text(0, 0.05, '5%'),\n",
       " Text(0, 0.07500000000000001, '8%'),\n",
       " Text(0, 0.1, '10%'),\n",
       " Text(0, 0.125, '12%'),\n",
       " Text(0, 0.15000000000000002, '15%'),\n",
       " Text(0, 0.17500000000000002, '18%'),\n",
       " Text(0, 0.2, '20%')]"
      ]
     },
     "execution_count": 103,
     "metadata": {},
     "output_type": "execute_result"
    },
    {
     "data": {
      "image/png": "[encoded data removed]",
      "text/plain": [
       "<Figure size 640x480 with 1 Axes>"
      ]
     },
     "metadata": {},
     "output_type": "display_data"
    }
   ],
   "source": [
    "sns.set_theme(style='darkgrid', palette='gist_earth')\n",
    "\n",
    "print(grouped_noise)\n",
    "\n",
    "noise_plot = sns.barplot(\n",
    "    data=grouped_noise.reset_index(),        # get rid of the multindex from the grouping\n",
    "    x='noise_level_range',\n",
    "    y='defect_rate',\n",
    "    hue='mitigation_period'\n",
    ")\n",
    "\n",
    "noise_plot.set(xlabel='Noise Level Range (dB)', ylabel='Defect Rate')\n",
    "noise_plot.legend(title='Mitigation')\n",
    "noise_plot.set_title(\"Noise Level Defect Rate\")\n",
    "noise_plot.set_yticklabels(['{:,.0%}'.format(x) for x in noise_plot.get_yticks()])"
   ]
  },
  {
   "cell_type": "markdown",
   "id": "e264090d",
   "metadata": {},
   "source": [
    "All defects bar plot"
   ]
  },
  {
   "cell_type": "code",
   "execution_count": 174,
   "id": "a59d37db",
   "metadata": {},
   "outputs": [
    {
     "name": "stderr",
     "output_type": "stream",
     "text": [
      "C:\\Users\\cylinder\\AppData\\Local\\Temp\\ipykernel_27252\\1765646041.py:14: UserWarning: set_ticklabels() should only be used with a fixed number of ticks, i.e. after set_ticks() or using a FixedLocator.\n",
      "  all_defects_plot.set_yticklabels(['{:,.0%}'.format(x) for x in all_defects_plot.get_yticks()])\n"
     ]
    },
    {
     "data": {
      "text/plain": [
       "[Text(0, 0.0, '0%'),\n",
       " Text(0, 0.02, '2%'),\n",
       " Text(0, 0.04, '4%'),\n",
       " Text(0, 0.06, '6%'),\n",
       " Text(0, 0.08, '8%'),\n",
       " Text(0, 0.1, '10%'),\n",
       " Text(0, 0.12, '12%')]"
      ]
     },
     "execution_count": 174,
     "metadata": {},
     "output_type": "execute_result"
    },
    {
     "data": {
      "image/png": "[encoded data removed]",
      "text/plain": [
       "<Figure size 640x480 with 1 Axes>"
      ]
     },
     "metadata": {},
     "output_type": "display_data"
    }
   ],
   "source": [
    "sns.set_theme(style='darkgrid', palette='gist_earth')\n",
    "\n",
    "all_defects_plot = sns.barplot(\n",
    "    data=grouped_all_defects.reset_index(),        # get rid of the multindex from the grouping\n",
    "    x='period_label',\n",
    "    y='defect_rate'\n",
    ")\n",
    "\n",
    "for i, val in enumerate(grouped_all_defects['defect_count']):\n",
    "    all_defects_plot.text(i, grouped_all_defects['defect_rate'].iloc[i] + 0.002, f\"{val}\", ha='center')\n",
    "\n",
    "all_defects_plot.set(xlabel='Total Defects', ylabel='Defect Rate')\n",
    "all_defects_plot.set_title(\"Total Defect Rate\")\n",
    "all_defects_plot.set_yticklabels(['{:,.0%}'.format(x) for x in all_defects_plot.get_yticks()])"
   ]
  },
  {
   "cell_type": "markdown",
   "id": "ac8996a4",
   "metadata": {},
   "source": [
    "Heatmaps"
   ]
  },
  {
   "cell_type": "code",
   "execution_count": 73,
   "id": "3ed17d66",
   "metadata": {},
   "outputs": [
    {
     "data": {
      "image/png": "[encoded data removed]",
      "text/plain": [
       "<Figure size 640x480 with 2 Axes>"
      ]
     },
     "metadata": {},
     "output_type": "display_data"
    }
   ],
   "source": [
    "pre_defect_heatmap = sns.heatmap(pivot_objects['pre_pivot'], annot=True, cmap='coolwarm', vmin=0, vmax=0.5, \n",
    "                                  linewidths=0.5, fmt='.1%')\n",
    "\n",
    "pre_defect_heatmap.set(xlabel='Noise Level Range (dB)', ylabel='Temperature Range (°F)')\n",
    "pre_defect_heatmap.invert_yaxis()\n",
    "pre_defect_heatmap.set_title(\"Defect Rate Heatmap (Pre-Mitigation)\")\n",
    "pre_defect_heatmap.tick_params(axis='y', labelrotation=0)"
   ]
  },
  {
   "cell_type": "code",
   "execution_count": 51,
   "id": "ff94c3f5",
   "metadata": {},
   "outputs": [
    {
     "data": {
      "image/png": "[encoded data removed]",
      "text/plain": [
       "<Figure size 640x480 with 2 Axes>"
      ]
     },
     "metadata": {},
     "output_type": "display_data"
    }
   ],
   "source": [
    "post_defect_heatmap = sns.heatmap(pivot_objects['post_pivot'], annot=True, cmap='coolwarm', vmin=0, vmax=0.5, \n",
    "                                  linewidths=0.5, fmt='.1%')\n",
    "\n",
    "post_defect_heatmap.set(xlabel='Noise Level Range (dB)', ylabel='Temperature Range (°F)')\n",
    "post_defect_heatmap.invert_yaxis()\n",
    "post_defect_heatmap.set_title(\"Defect Rate Heatmap (Post-Mitigation)\")\n",
    "post_defect_heatmap.tick_params(axis='y', labelrotation=0)"
   ]
  },
  {
   "cell_type": "markdown",
   "id": "2faf8a8c",
   "metadata": {},
   "source": [
    "#### Post visualization correlation"
   ]
  },
  {
   "cell_type": "code",
   "execution_count": 18,
   "id": "80d326a6",
   "metadata": {},
   "outputs": [
    {
     "data": {
      "application/vnd.microsoft.datawrangler.viewer.v0+json": {
       "columns": [
        {
         "name": "index",
         "rawType": "object",
         "type": "string"
        },
        {
         "name": "temperature",
         "rawType": "float64",
         "type": "float"
        },
        {
         "name": "noise_level",
         "rawType": "float64",
         "type": "float"
        },
        {
         "name": "defect_reported_bool",
         "rawType": "float64",
         "type": "float"
        }
       ],
       "conversionMethod": "pd.DataFrame",
       "ref": "b29f1082-1516-467a-817a-34956945f93a",
       "rows": [
        [
         "temperature",
         "1.0",
         "0.007026328302410562",
         "0.1611256738153873"
        ],
        [
         "noise_level",
         "0.007026328302410562",
         "1.0",
         "0.14835821809071686"
        ],
        [
         "defect_reported_bool",
         "0.1611256738153873",
         "0.14835821809071686",
         "1.0"
        ]
       ],
       "shape": {
        "columns": 3,
        "rows": 3
       }
      },
      "text/html": [
       "<div>\n",
       "<style scoped>\n",
       "    .dataframe tbody tr th:only-of-type {\n",
       "        vertical-align: middle;\n",
       "    }\n",
       "\n",
       "    .dataframe tbody tr th {\n",
       "        vertical-align: top;\n",
       "    }\n",
       "\n",
       "    .dataframe thead th {\n",
       "        text-align: right;\n",
       "    }\n",
       "</style>\n",
       "<table border=\"1\" class=\"dataframe\">\n",
       "  <thead>\n",
       "    <tr style=\"text-align: right;\">\n",
       "      <th></th>\n",
       "      <th>temperature</th>\n",
       "      <th>noise_level</th>\n",
       "      <th>defect_reported_bool</th>\n",
       "    </tr>\n",
       "  </thead>\n",
       "  <tbody>\n",
       "    <tr>\n",
       "      <th>temperature</th>\n",
       "      <td>1.000000</td>\n",
       "      <td>0.007026</td>\n",
       "      <td>0.161126</td>\n",
       "    </tr>\n",
       "    <tr>\n",
       "      <th>noise_level</th>\n",
       "      <td>0.007026</td>\n",
       "      <td>1.000000</td>\n",
       "      <td>0.148358</td>\n",
       "    </tr>\n",
       "    <tr>\n",
       "      <th>defect_reported_bool</th>\n",
       "      <td>0.161126</td>\n",
       "      <td>0.148358</td>\n",
       "      <td>1.000000</td>\n",
       "    </tr>\n",
       "  </tbody>\n",
       "</table>\n",
       "</div>"
      ],
      "text/plain": [
       "                      temperature  noise_level  defect_reported_bool\n",
       "temperature              1.000000     0.007026              0.161126\n",
       "noise_level              0.007026     1.000000              0.148358\n",
       "defect_reported_bool     0.161126     0.148358              1.000000"
      ]
     },
     "execution_count": 18,
     "metadata": {},
     "output_type": "execute_result"
    }
   ],
   "source": [
    "merged_df[['temperature', 'noise_level', 'defect_reported_bool']].corr()"
   ]
  }
 ],
 "metadata": {
  "kernelspec": {
   "display_name": ".venv",
   "language": "python",
   "name": "python3"
  },
  "language_info": {
   "codemirror_mode": {
    "name": "ipython",
    "version": 3
   },
   "file_extension": ".py",
   "mimetype": "text/x-python",
   "name": "python",
   "nbconvert_exporter": "python",
   "pygments_lexer": "ipython3",
   "version": "3.12.8"
  }
 },
 "nbformat": 4,
 "nbformat_minor": 5
}
