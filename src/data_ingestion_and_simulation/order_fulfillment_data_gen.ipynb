{
 "cells": [
  {
   "cell_type": "markdown",
   "id": "85b06e69",
   "metadata": {},
   "source": [
    "### Fulfillment Data Generation\n",
    "\n",
    "In absence of data from the real project, I'm generating hypothetical order fulfillment data. Temperature and noise probabilities affect where a defect is reported on a given order. The data is then saved as a CSV file for bulk upload to Supabase."
   ]
  },
  {
   "cell_type": "code",
   "execution_count": 197,
   "id": "dcd06541",
   "metadata": {},
   "outputs": [],
   "source": [
    "import pandas as pd\n",
    "import numpy as np\n",
    "import datetime\n",
    "import uuid"
   ]
  },
  {
   "cell_type": "markdown",
   "id": "6ae68aea",
   "metadata": {},
   "source": [
    "#### Load generated environmental data and convert date field strings to datetime (numpy datetime64) objects"
   ]
  },
  {
   "cell_type": "code",
   "execution_count": 198,
   "id": "eec30b11",
   "metadata": {},
   "outputs": [
    {
     "name": "stdout",
     "output_type": "stream",
     "text": [
      "            timestamp  temperature  noise_level\n",
      "0 2024-08-01 08:00:00        60.98        42.31\n",
      "1 2024-08-01 09:00:00        66.56        59.00\n",
      "2 2024-08-01 10:00:00        71.55        42.84\n",
      "3 2024-08-01 11:00:00        75.44        48.31\n",
      "4 2024-08-01 12:00:00        78.97        59.00\n"
     ]
    }
   ],
   "source": [
    "df = pd.read_csv('../../data/shipdock_environmental_data_0809.csv')\n",
    "df['timestamp'] = pd.to_datetime(df['timestamp'])\n",
    "print(df.head())"
   ]
  },
  {
   "cell_type": "markdown",
   "id": "c42f1fc4",
   "metadata": {},
   "source": [
    "#### Define hypothetical defect probabilities based on environmental conditions"
   ]
  },
  {
   "cell_type": "code",
   "execution_count": 199,
   "id": "f0815018",
   "metadata": {},
   "outputs": [],
   "source": [
    "TEMP_THRESHOLD = 80\n",
    "NOISE_THRESHOLD = 60\n",
    "BASE_DEFECT_PROBABILITY = 0.02\n",
    "HIGH_TEMP_PROB = 0.2\n",
    "HIGH_NOISE_PROB = 0.15\n",
    "COMBINED_PROB = 0.5"
   ]
  },
  {
   "cell_type": "markdown",
   "id": "9c1431d7",
   "metadata": {},
   "source": [
    "#### Create simulated sales fulfillment data"
   ]
  },
  {
   "cell_type": "code",
   "execution_count": 200,
   "id": "154f069f",
   "metadata": {},
   "outputs": [
    {
     "name": "stdout",
     "output_type": "stream",
     "text": [
      "0      ups\n",
      "1    fedex\n",
      "2    fedex\n",
      "3      dhl\n",
      "4     usps\n",
      "5      ups\n",
      "6    fedex\n",
      "7      dhl\n",
      "8    fedex\n",
      "9      dhl\n",
      "Name: ship_method, dtype: object\n"
     ]
    }
   ],
   "source": [
    "simulated_orders = []\n",
    "\n",
    "for index, row in df.iterrows():\n",
    "    timestamp = row['timestamp']\n",
    "    temperature = row['temperature']\n",
    "    noise_level = row['noise_level']\n",
    "\n",
    "    # Only generate orders during operating hours (8 AM to 5 PM)\n",
    "    if 8 <= timestamp.hour < 17:\n",
    "        for _ in range(np.random.poisson(4)):\n",
    "            order_id = uuid.uuid4()\n",
    "            pack_date = timestamp       # environmental reading should coincide with packing time to reflect a related defect\n",
    "            ship_date = timestamp + datetime.timedelta(hours=np.random.randint(6,24))\n",
    "            ship_method = np.random.choice(['usps', 'fedex', 'ups', 'dhl'])     # matches custom enum in Supabase\n",
    "            number_of_items = np.random.randint(1,6)\n",
    "            box_size = np.random.choice(['A', 'B', 'C'])                        # matches custom enum in Supabase\n",
    "\n",
    "            defect_probability = BASE_DEFECT_PROBABILITY\n",
    "\n",
    "            if temperature >= TEMP_THRESHOLD and noise_level >= NOISE_THRESHOLD: \n",
    "                defect_probability = COMBINED_PROB\n",
    "            elif temperature >= TEMP_THRESHOLD:\n",
    "                defect_probability = HIGH_TEMP_PROB\n",
    "            elif noise_level >= NOISE_THRESHOLD:\n",
    "                defect_probability = HIGH_NOISE_PROB\n",
    "\n",
    "            defect_list = [None, 'missing items', 'wrong items', 'poorly packed']     # matches custom enum in Supabase\n",
    "            # base probability is always low, remaining probability divided evenly between other three possibilities\n",
    "            defect_reported = np.random.choice(defect_list, 1, p=[1 - defect_probability, defect_probability/3, \n",
    "                                                                defect_probability/3, defect_probability/3])[0]\n",
    "\n",
    "            simulated_order_date = timestamp - datetime.timedelta(hours=np.random.randint(1,24))\n",
    "\n",
    "            simulated_orders.append({\n",
    "                'timestamp': simulated_order_date,\n",
    "                'order_id': order_id,\n",
    "                'pack_date': pack_date,\n",
    "                'ship_date': ship_date,\n",
    "                'ship_method': ship_method,\n",
    "                'number_of_items': number_of_items,\n",
    "                'box_size': box_size,\n",
    "                'defect_reported': defect_reported\n",
    "            })\n",
    "\n",
    "simulated_df = pd.DataFrame(simulated_orders)\n",
    "\n",
    "print(simulated_df['ship_method'].head(10))"
   ]
  },
  {
   "cell_type": "markdown",
   "id": "466f93e6",
   "metadata": {},
   "source": [
    "#### Save to CSV"
   ]
  },
  {
   "cell_type": "code",
   "execution_count": 201,
   "id": "b46b641f",
   "metadata": {},
   "outputs": [],
   "source": [
    "simulated_df.to_csv('order_fulfillment_data_0809.csv', index=False)"
   ]
  }
 ],
 "metadata": {
  "kernelspec": {
   "display_name": ".venv",
   "language": "python",
   "name": "python3"
  },
  "language_info": {
   "codemirror_mode": {
    "name": "ipython",
    "version": 3
   },
   "file_extension": ".py",
   "mimetype": "text/x-python",
   "name": "python",
   "nbconvert_exporter": "python",
   "pygments_lexer": "ipython3",
   "version": "3.12.8"
  }
 },
 "nbformat": 4,
 "nbformat_minor": 5
}
