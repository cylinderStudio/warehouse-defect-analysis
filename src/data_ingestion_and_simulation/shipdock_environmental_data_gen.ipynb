{
 "cells": [
  {
   "cell_type": "markdown",
   "id": "f026def9",
   "metadata": {},
   "source": [
    "### Environmental Data Generation\n",
    "\n",
    "In absence of data from the real project, I'm generating hypothetical indoor temperatures based on historical weather data containing air temperatures. The data is then saved as a CSV file for bulk upload to Supabase."
   ]
  },
  {
   "cell_type": "code",
   "execution_count": 7,
   "id": "4502a65a",
   "metadata": {},
   "outputs": [],
   "source": [
    "import pandas as pd\n",
    "import numpy as np\n",
    "import datetime"
   ]
  },
  {
   "cell_type": "markdown",
   "id": "5c38b4c7",
   "metadata": {},
   "source": [
    "#### Load raw historical weather data and convert date field strings to datetime (numpy datetime64) objects"
   ]
  },
  {
   "cell_type": "code",
   "execution_count": 8,
   "id": "9060a8d0",
   "metadata": {},
   "outputs": [
    {
     "name": "stdout",
     "output_type": "stream",
     "text": [
      "       STATION                                               NAME  LATITUDE  \\\n",
      "0  USW00094290  SEATTLE SAND POINT WEATHER FORECAST OFFICE, WA US   47.6872   \n",
      "1  USW00094290  SEATTLE SAND POINT WEATHER FORECAST OFFICE, WA US   47.6872   \n",
      "2  USW00094290  SEATTLE SAND POINT WEATHER FORECAST OFFICE, WA US   47.6872   \n",
      "3  USW00094290  SEATTLE SAND POINT WEATHER FORECAST OFFICE, WA US   47.6872   \n",
      "4  USW00094290  SEATTLE SAND POINT WEATHER FORECAST OFFICE, WA US   47.6872   \n",
      "\n",
      "   LONGITUDE  ELEVATION       DATE  TAVG  TMAX  TMIN  TOBS  \n",
      "0  -122.2553       18.3 2024-08-01   NaN    83    61   NaN  \n",
      "1  -122.2553       18.3 2024-08-02   NaN    87    63   NaN  \n",
      "2  -122.2553       18.3 2024-08-03   NaN    85    58   NaN  \n",
      "3  -122.2553       18.3 2024-08-04   NaN    88    58   NaN  \n",
      "4  -122.2553       18.3 2024-08-05   NaN    81    58   NaN  \n"
     ]
    }
   ],
   "source": [
    "df = pd.read_csv('../../data/weather_data_0809.csv')\n",
    "df['DATE'] = pd.to_datetime(df['DATE'])\n",
    "print(df.head())"
   ]
  },
  {
   "cell_type": "markdown",
   "id": "97c19dad",
   "metadata": {},
   "source": [
    "#### Define conveyance operation times and peak temperature time\n",
    "\n",
    "The conveyance in the warehouse runs for three different hour-long sessions during the day which generates high noise. I'm selecting an hour during the day which simulates when the peak temperature might occur for the given time of year."
   ]
  },
  {
   "cell_type": "code",
   "execution_count": 9,
   "id": "216029bd",
   "metadata": {},
   "outputs": [],
   "source": [
    "peak_temperature_hour = 15  # 3 pm\n",
    "\n",
    "conveyance_times = [\n",
    "    (9, 10),    # Morning shift: 9 - 10 am\n",
    "    (12, 13),   # Midday shift: 12 - 1 pm\n",
    "    (15, 16)    # Afternoon shift: 3 - 4 pm\n",
    "]"
   ]
  },
  {
   "cell_type": "markdown",
   "id": "24497576",
   "metadata": {},
   "source": [
    "#### Create caps for temperature and noise levels\n",
    "\n",
    "To simulate data readings after the installation of air conditioning and warehouse noise reductions, employ these caps."
   ]
  },
  {
   "cell_type": "code",
   "execution_count": 10,
   "id": "c6a159d5",
   "metadata": {},
   "outputs": [],
   "source": [
    "use_caps = True\n",
    "\n",
    "temperature_cap = 79.0\n",
    "noise_cap = 59.0"
   ]
  },
  {
   "cell_type": "markdown",
   "id": "803544ea",
   "metadata": {},
   "source": [
    "#### Create simulated hourly readings"
   ]
  },
  {
   "cell_type": "code",
   "execution_count": null,
   "id": "71af2e56",
   "metadata": {},
   "outputs": [
    {
     "name": "stdout",
     "output_type": "stream",
     "text": [
      "            timestamp  temperature  noise_level\n",
      "0 2024-08-01 08:00:00        60.98        42.31\n",
      "1 2024-08-01 09:00:00        66.56        59.00\n",
      "2 2024-08-01 10:00:00        71.55        42.84\n",
      "3 2024-08-01 11:00:00        75.44        48.31\n",
      "4 2024-08-01 12:00:00        78.97        59.00\n"
     ]
    }
   ],
   "source": [
    "simulated_data = []\n",
    "\n",
    "for index, row in df.iterrows():\n",
    "    date = row['DATE']\n",
    "    tmax = float(row['TMAX'])\n",
    "    tmin = float(row['TMIN'])\n",
    "\n",
    "    # generate hourly temperature readings for operating hours (8 am to 5 pm)\n",
    "\n",
    "    for hour_value in range(8, 18):\n",
    "        timestamp = timestamp = datetime.datetime.combine(date, datetime.time(hour=hour_value))\n",
    "\n",
    "        # Parabolic temp calculation (Thanks, AI.)\n",
    "        temperature = tmin + (tmax - tmin) * (1 - ((hour_value - peak_temperature_hour) / (peak_temperature_hour - 8))**2)\n",
    "        \n",
    "        # While outside air temperatures can fall outside the range, it's never colder than 60 or hotter than 90 inside\n",
    "        if temperature < 60:\n",
    "            temperature = 60 + np.random.uniform(0, 0.5)\n",
    "        elif temperature > 90:\n",
    "            temperature = 90 - np.random.uniform(0, 0.5)\n",
    "        \n",
    "        if use_caps and temperature >= temperature_cap:\n",
    "            temperature = temperature_cap \n",
    "        \n",
    "        temperature += np.random.uniform(-0.5, 0.5)  # Add slight randomness for realism\n",
    "        \n",
    "        if any (start <= hour_value < end for start, end in conveyance_times):\n",
    "            noise_level = round(np.random.uniform(60.0, 80.0), 2)\n",
    "        else: \n",
    "            noise_level = round(np.random.uniform(20.0, 50.0), 2)\n",
    "\n",
    "        if use_caps and noise_level > noise_cap:\n",
    "            noise_level = noise_cap\n",
    "\n",
    "        noise_level = round(noise_level, 2)\n",
    "\n",
    "        simulated_data.append({\n",
    "            \"timestamp\": timestamp,\n",
    "            \"temperature\": round(temperature, 2),\n",
    "            \"noise_level\": noise_level\n",
    "        })\n",
    "\n",
    "simulated_df = pd.DataFrame(simulated_data)\n",
    "\n",
    "print(simulated_df.head())"
   ]
  },
  {
   "cell_type": "markdown",
   "id": "05acab60",
   "metadata": {},
   "source": [
    "#### Save to CSV"
   ]
  },
  {
   "cell_type": "code",
   "execution_count": 12,
   "id": "32f14c4f",
   "metadata": {},
   "outputs": [],
   "source": [
    "simulated_df.to_csv('shipdock_environmental_data_0809.csv', index=False)"
   ]
  }
 ],
 "metadata": {
  "kernelspec": {
   "display_name": ".venv",
   "language": "python",
   "name": "python3"
  },
  "language_info": {
   "codemirror_mode": {
    "name": "ipython",
    "version": 3
   },
   "file_extension": ".py",
   "mimetype": "text/x-python",
   "name": "python",
   "nbconvert_exporter": "python",
   "pygments_lexer": "ipython3",
   "version": "3.12.8"
  }
 },
 "nbformat": 4,
 "nbformat_minor": 5
}
